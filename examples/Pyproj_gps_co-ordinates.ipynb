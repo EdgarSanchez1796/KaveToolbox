{
 "cells": [
  {
   "cell_type": "markdown",
   "metadata": {},
   "source": [
    "# Processing GPS data in Python with pyproj\n",
    "\n",
    "Thanks to github user MHenderson for this example.\n",
    "\n",
    "Source code for this notebook is at: [https://gist.github.com/MHenderson/6279740](https://gist.github.com/MHenderson/6279740)\n",
    "\n",
    "The notebook itself can be viewed at: [http://nbviewer.ipython.org/6279740](http://nbviewer.ipython.org/6279740)"
   ]
  },
  {
   "cell_type": "markdown",
   "metadata": {},
   "source": [
    "## Computing distances between points\n",
    "\n",
    "Using ``pyproj`` (http://code.google.com/p/pyproj/) we implement three functions for convenience. \n",
    "\n",
    "* ``distance(lat1, lng1, lat2, lng2)`` computes the distance between points with latitudes `lat1`, `lat2` and longitudes `lng1`, `lng2` with respect to the WGS84 ellipsoid (http://en.wikipedia.org/wiki/World_Geodetic_System)\n",
    "* ``distance_between(p1, p2)`` computes the same distance but when the arguments `p1`, `p2` are latitude, longitude pairs.\n",
    "* ``nearest_mile(distance_in_metres)`` converts a distance in metres to a distance to the nearest mile.\n",
    "* ``total_distance(points)`` calculates the total distance between points in a list of points."
   ]
  },
  {
   "cell_type": "code",
   "execution_count": 1,
   "metadata": {
    "collapsed": false
   },
   "outputs": [],
   "source": [
    "import pyproj\n",
    "\n",
    "def distance(lat1, lng1, lat2, lng2, ellps = 'WGS84'):\n",
    "    g = pyproj.Geod(ellps = ellps)\n",
    "    return g.inv(lng1, lat1, lng2, lat2)[2]\n",
    "\n",
    "def distance_between(p1, p2):\n",
    "    return distance(p1[0], p1[1], p2[0], p2[1])\n",
    "\n",
    "def nearest_mile(distance_in_metres):\n",
    "    return int(0.621371*distance_in_metres/1000)\n",
    "\n",
    "def total_distance(points):\n",
    "    return sum(map(distance_between, points[:-1], points[1:]))"
   ]
  },
  {
   "cell_type": "markdown",
   "metadata": {},
   "source": [
    "So now, for example, if we know that Nottingham, England has latitude and longitude (52.9548, -1.1581) and Louisville, Kentucky has latitude and longitude (38.253284, -85.758786) then we can compute the great circle distance between those two points by using the ``distance_between`` function."
   ]
  },
  {
   "cell_type": "code",
   "execution_count": 2,
   "metadata": {
    "collapsed": false
   },
   "outputs": [
    {
     "name": "stdout",
     "output_type": "stream",
     "text": [
      "Distance (to the nearest mile): 3976\n"
     ]
    }
   ],
   "source": [
    "p1 = (52.9548, -1.1581)   # Nottingham, England\n",
    "p2 = (38.253284, -85.758786)   # Louisville, KY\n",
    "print \"Distance (to the nearest mile): \" + str(nearest_mile(distance_between(p1, p2)))"
   ]
  },
  {
   "cell_type": "markdown",
   "metadata": {},
   "source": [
    "## References\n",
    "\n",
    "* http://blog.tremily.us/posts/pyproj/\n"
   ]
  },
  {
   "cell_type": "code",
   "execution_count": 3,
   "metadata": {
    "collapsed": false
   },
   "outputs": [
    {
     "name": "stdout",
     "output_type": "stream",
     "text": [
      "KAVE 2016-09-01 17:21:45 \n",
      "\n",
      "CPython 2.7.12\n",
      "IPython 4.0.1\n",
      "\n",
      "numpy 1.10.1\n",
      "pandas 0.17.1\n",
      "Git hash: e682a8ce36d019fff0ee6067182136550a222d07\n"
     ]
    }
   ],
   "source": [
    "%load_ext watermark\n",
    "%watermark -a KAVE -d -t -v -p numpy,pandas -g"
   ]
  }
 ],
 "metadata": {
  "kernelspec": {
   "display_name": "Python 2",
   "language": "python",
   "name": "python2"
  },
  "language_info": {
   "codemirror_mode": {
    "name": "ipython",
    "version": 2
   },
   "file_extension": ".py",
   "mimetype": "text/x-python",
   "name": "python",
   "nbconvert_exporter": "python",
   "pygments_lexer": "ipython2",
   "version": "2.7.12"
  }
 },
 "nbformat": 4,
 "nbformat_minor": 0
}
