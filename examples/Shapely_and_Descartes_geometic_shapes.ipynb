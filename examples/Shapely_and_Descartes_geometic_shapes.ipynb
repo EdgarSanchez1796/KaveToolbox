{
 "cells": [
  {
   "cell_type": "markdown",
   "metadata": {},
   "source": [
    "# Shapely geometric library\n",
    "example found thnks to : https://gist.github.com/sweenzor/8275135, github user sweenzor\n",
    "In this example, some patches are plotted and geometric solutions found for certain intersection problems"
   ]
  },
  {
   "cell_type": "code",
   "execution_count": 1,
   "metadata": {
    "collapsed": false
   },
   "outputs": [
    {
     "name": "stdout",
     "output_type": "stream",
     "text": [
      "Populating the interactive namespace from numpy and matplotlib\n"
     ]
    }
   ],
   "source": [
    "import numpy as np\n",
    "#pylab inline must be made before importing shapely and descartes in this example\n",
    "%pylab inline\n",
    "from shapely.geometry import Point, Polygon, LineString\n",
    "import descartes"
   ]
  },
  {
   "cell_type": "code",
   "execution_count": 2,
   "metadata": {
    "collapsed": false
   },
   "outputs": [],
   "source": [
    "circle = Point(5.0, 0.0).buffer(10.0)\n",
    "clip_poly = Polygon([[-9.5, -2], [2, 2], [3, 4], [-1, 3]])\n",
    "clipped_shape = circle.difference(clip_poly)\n",
    "\n",
    "line = LineString([[-10, -5], [15, 5]])\n",
    "line2 = LineString([[-10, -5], [-5, 0], [2, 3]])"
   ]
  },
  {
   "cell_type": "code",
   "execution_count": 3,
   "metadata": {
    "collapsed": false
   },
   "outputs": [
    {
     "name": "stdout",
     "output_type": "stream",
     "text": [
      "Blue line intersects clipped shape: True\n",
      "Green line intersects clipped shape: False\n"
     ]
    },
    {
     "data": {
      "image/png": "[encoded data removed]",
      "text/plain": [
       "<matplotlib.figure.Figure at 0x7f8c80210a90>"
      ]
     },
     "metadata": {},
     "output_type": "display_data"
    }
   ],
   "source": [
    "print 'Blue line intersects clipped shape:', line.intersects(clipped_shape)\n",
    "print 'Green line intersects clipped shape:', line2.intersects(clipped_shape)\n",
    "\n",
    "fig = plt.figure()\n",
    "ax = fig.add_subplot(111)\n",
    "\n",
    "ax.plot(*np.array(line).T, color='blue', linewidth=3, solid_capstyle='round')\n",
    "ax.plot(*np.array(line2).T, color='green', linewidth=3, solid_capstyle='round')\n",
    "ax.add_patch(descartes.PolygonPatch(clipped_shape, fc='blue', alpha=0.5))\n",
    "ax.axis('equal')\n",
    "\n",
    "plt.show()"
   ]
  },
  {
   "cell_type": "code",
   "execution_count": 4,
   "metadata": {
    "collapsed": false
   },
   "outputs": [
    {
     "data": {
      "image/png": "[encoded data removed]",
      "text/plain": [
       "<matplotlib.figure.Figure at 0x7f8c80210f90>"
      ]
     },
     "metadata": {},
     "output_type": "display_data"
    }
   ],
   "source": [
    "start = Polygon([[-2, 1], [2, 2], [3, 4], [-1, 3]])\n",
    "end = Polygon([[-6, -2], [-6, -4], [-3, -4], [-1, -3]])\n",
    "line = LineString([[-8, -5], [5, 5]])\n",
    "\n",
    "fig = plt.figure()\n",
    "ax = fig.add_subplot(111)\n",
    "\n",
    "ax.plot(*np.array(line).T, color='red', linewidth=1, solid_capstyle='round')\n",
    "ax.add_patch(descartes.PolygonPatch(start, fc='blue', alpha=0.5))\n",
    "ax.add_patch(descartes.PolygonPatch(end, fc='green', alpha=0.5))\n",
    "ax.axis('equal')\n",
    "\n",
    "plt.show()"
   ]
  },
  {
   "cell_type": "code",
   "execution_count": null,
   "metadata": {
    "collapsed": false
   },
   "outputs": [],
   "source": []
  }
 ],
 "metadata": {
  "kernelspec": {
   "display_name": "Python 2",
   "language": "python",
   "name": "python2"
  },
  "language_info": {
   "codemirror_mode": {
    "name": "ipython",
    "version": 2
   },
   "file_extension": ".py",
   "mimetype": "text/x-python",
   "name": "python",
   "nbconvert_exporter": "python",
   "pygments_lexer": "ipython2",
   "version": "2.7.11"
  }
 },
 "nbformat": 4,
 "nbformat_minor": 0
}
