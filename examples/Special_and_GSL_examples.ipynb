{
 "cells": [
  {
   "cell_type": "markdown",
   "metadata": {},
   "source": [
    "# GSL: Gnu Scientific Library, with pygsl\n",
    "\n",
    "* pygsl is described here: http://pygsl.sourceforge.net/README.html\n",
    "* gsl contains a library of many different mathematical functions, such as certain polynomials http://www.gnu.org/software/gsl/\n",
    "* However, only a subset of them are implemented in pygsl. Others are implemented in ROOT.\n",
    "\n",
    "# scipy.special: numpy implemented functions\n",
    "* Many of these polynomials above, and more also have an implementation in scipy special function library http://docs.scipy.org/doc/scipy-0.14.0/reference/special.html"
   ]
  },
  {
   "cell_type": "code",
   "execution_count": 1,
   "metadata": {
    "collapsed": false
   },
   "outputs": [
    {
     "name": "stdout",
     "output_type": "stream",
     "text": [
      "Populating the interactive namespace from numpy and matplotlib\n"
     ]
    }
   ],
   "source": [
    "import pandas as pd\n",
    "%pylab inline\n",
    "import pygsl"
   ]
  },
  {
   "cell_type": "markdown",
   "metadata": {},
   "source": [
    "# Pygsl is only a subset of what is generically offered in GSL"
   ]
  },
  {
   "cell_type": "code",
   "execution_count": 2,
   "metadata": {
    "collapsed": false
   },
   "outputs": [
    {
     "name": "stdout",
     "output_type": "stream",
     "text": [
      "\n",
      "    Wrapper for the GNU Scientific Library.\n",
      "\n",
      "\n",
      "    This module provides the following submodules:\n",
      "         -- blas\n",
      "         -- chebyshev\n",
      "         -- combination\n",
      "         -- const\n",
      "         -- diff\n",
      "         -- eigen\n",
      "         -- fit\n",
      "         -- histogram\n",
      "         -- ieee\n",
      "         -- integrate\n",
      "         -- interpolation\n",
      "         -- linalg\n",
      "         -- math\n",
      "         -- minimize\n",
      "         -- multifit\n",
      "         -- multifit_nlin\n",
      "         -- multimin\n",
      "         -- multiroots\n",
      "         -- odeiv\n",
      "         -- permutation\n",
      "         -- poly\n",
      "         -- qrng\n",
      "         -- rng\n",
      "         -- roots\n",
      "         -- siman\n",
      "         -- sf\n",
      "         -- statistics\n",
      "\n",
      "         \n",
      "    Homepage: http://pygsl.sourceforge.net\n",
      "\n"
     ]
    }
   ],
   "source": [
    "print pygsl.__doc__[0:685]"
   ]
  },
  {
   "cell_type": "code",
   "execution_count": 3,
   "metadata": {
    "collapsed": true
   },
   "outputs": [],
   "source": [
    "from pygsl import poly"
   ]
  },
  {
   "cell_type": "code",
   "execution_count": 4,
   "metadata": {
    "collapsed": false
   },
   "outputs": [
    {
     "name": "stdout",
     "output_type": "stream",
     "text": [
      "Help on function poly_eval in module pygsl.poly:\n",
      "\n",
      "poly_eval(*args)\n",
      "    This function evaluates the polynomial\n",
      "    c[0] + c[1] x + c[2] x^2 + \\dots + c[len-1] x^{len-1}\n",
      "    using Horner's method for stability\n",
      "    \n",
      "    input: c, x\n",
      "        c ... array of coefficients\n",
      "        x ... \n",
      "        \n",
      "    output: y\n",
      "\n"
     ]
    }
   ],
   "source": [
    "help(poly.poly_eval)"
   ]
  },
  {
   "cell_type": "code",
   "execution_count": 5,
   "metadata": {
    "collapsed": false
   },
   "outputs": [],
   "source": [
    "x=np.linspace(0,100,1000)"
   ]
  },
  {
   "cell_type": "code",
   "execution_count": 6,
   "metadata": {
    "collapsed": false
   },
   "outputs": [],
   "source": [
    "y=poly.poly_eval([0,2,2],x)"
   ]
  },
  {
   "cell_type": "code",
   "execution_count": 7,
   "metadata": {
    "collapsed": false
   },
   "outputs": [
    {
     "data": {
      "text/plain": [
       "[<matplotlib.lines.Line2D at 0x7f940757db50>]"
      ]
     },
     "execution_count": 7,
     "metadata": {},
     "output_type": "execute_result"
    },
    {
     "data": {
      "image/png": "[encoded data removed]",
      "text/plain": [
       "<matplotlib.figure.Figure at 0x7f9408514390>"
      ]
     },
     "metadata": {},
     "output_type": "display_data"
    }
   ],
   "source": [
    "plt.plot(x,y)"
   ]
  },
  {
   "cell_type": "markdown",
   "metadata": {},
   "source": [
    "# Scipy special functions also contain a lot of goodies"
   ]
  },
  {
   "cell_type": "code",
   "execution_count": 8,
   "metadata": {
    "collapsed": true
   },
   "outputs": [],
   "source": [
    "import scipy.special as flib"
   ]
  },
  {
   "cell_type": "code",
   "execution_count": 9,
   "metadata": {
    "collapsed": false
   },
   "outputs": [
    {
     "name": "stdout",
     "output_type": "stream",
     "text": [
      "341\n",
      "['ber_zeros', 'bernoulli', 'berp', 'berp_zeros', 'bessel_diff_formula', 'besselpoly', 'beta', 'betainc', 'betaincinv', 'betaln']\n"
     ]
    }
   ],
   "source": [
    "print len(dir(flib))\n",
    "print dir(flib)[30:40]"
   ]
  },
  {
   "cell_type": "markdown",
   "metadata": {},
   "source": [
    "Functions in this library have their own special sort of help, which you need np.info to read"
   ]
  },
  {
   "cell_type": "code",
   "execution_count": 10,
   "metadata": {
    "collapsed": false
   },
   "outputs": [
    {
     "name": "stdout",
     "output_type": "stream",
     "text": [
      "jv(x1, x2[, out])\n",
      "\n",
      "jv(v, z)\n",
      "\n",
      "Bessel function of the first kind of real order v\n"
     ]
    }
   ],
   "source": [
    "np.info(flib.jv)"
   ]
  },
  {
   "cell_type": "code",
   "execution_count": 11,
   "metadata": {
    "collapsed": false
   },
   "outputs": [
    {
     "name": "stdout",
     "output_type": "stream",
     "text": [
      "besselpoly(x1, x2, x3[, out])\n",
      "\n",
      "besselpoly(a, lmb, nu)\n",
      "\n",
      "Weighed integral of a Bessel function.\n",
      "\n",
      ".. math::\n",
      "\n",
      "   \\int_0^1 x^\\lambda J_v(\\nu, 2 a x) \\, dx\n",
      "\n",
      "where :math:`J_v` is a Bessel function and :math:`\\lambda=lmb`,\n",
      ":math:`\\nu=nu`.\n"
     ]
    }
   ],
   "source": [
    "np.info(flib.besselpoly)"
   ]
  },
  {
   "cell_type": "markdown",
   "metadata": {},
   "source": [
    "Let's now do a bessel function over 1000 points, it's pretty fast"
   ]
  },
  {
   "cell_type": "code",
   "execution_count": 12,
   "metadata": {
    "collapsed": false
   },
   "outputs": [
    {
     "name": "stdout",
     "output_type": "stream",
     "text": [
      "1000 loops, best of 3: 1.62 ms per loop\n"
     ]
    }
   ],
   "source": [
    "%%timeit\n",
    "y=flib.jv(3, x)"
   ]
  },
  {
   "cell_type": "code",
   "execution_count": 13,
   "metadata": {
    "collapsed": true
   },
   "outputs": [],
   "source": [
    "y=flib.jv(3, x)"
   ]
  },
  {
   "cell_type": "code",
   "execution_count": 14,
   "metadata": {
    "collapsed": false
   },
   "outputs": [
    {
     "data": {
      "text/plain": [
       "1000"
      ]
     },
     "execution_count": 14,
     "metadata": {},
     "output_type": "execute_result"
    }
   ],
   "source": [
    "len(y)"
   ]
  },
  {
   "cell_type": "code",
   "execution_count": 15,
   "metadata": {
    "collapsed": false
   },
   "outputs": [
    {
     "data": {
      "text/plain": [
       "[<matplotlib.lines.Line2D at 0x7f9403755e50>]"
      ]
     },
     "execution_count": 15,
     "metadata": {},
     "output_type": "execute_result"
    },
    {
     "data": {
      "image/png": "[encoded data removed]",
      "text/plain": [
       "<matplotlib.figure.Figure at 0x7f9404a7f9d0>"
      ]
     },
     "metadata": {},
     "output_type": "display_data"
    }
   ],
   "source": [
    "plt.plot(x,y)"
   ]
  },
  {
   "cell_type": "code",
   "execution_count": null,
   "metadata": {
    "collapsed": true
   },
   "outputs": [],
   "source": []
  }
 ],
 "metadata": {
  "kernelspec": {
   "display_name": "Python 2",
   "language": "python",
   "name": "python2"
  },
  "language_info": {
   "codemirror_mode": {
    "name": "ipython",
    "version": 2
   },
   "file_extension": ".py",
   "mimetype": "text/x-python",
   "name": "python",
   "nbconvert_exporter": "python",
   "pygments_lexer": "ipython2",
   "version": "2.7.10"
  }
 },
 "nbformat": 4,
 "nbformat_minor": 0
}
